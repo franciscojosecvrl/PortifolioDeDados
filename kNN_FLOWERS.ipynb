{
  "nbformat": 4,
  "nbformat_minor": 0,
  "metadata": {
    "colab": {
      "provenance": [],
      "authorship_tag": "ABX9TyPNUQR603UT0NkpCt2t3vsQ",
      "include_colab_link": true
    },
    "kernelspec": {
      "name": "python3",
      "display_name": "Python 3"
    },
    "language_info": {
      "name": "python"
    }
  },
  "cells": [
    {
      "cell_type": "markdown",
      "metadata": {
        "id": "view-in-github",
        "colab_type": "text"
      },
      "source": [
        "<a href=\"https://colab.research.google.com/github/franciscojosecvrl/PortifolioDeDados/blob/main/kNN_FLOWERS.ipynb\" target=\"_parent\"><img src=\"https://colab.research.google.com/assets/colab-badge.svg\" alt=\"Open In Colab\"/></a>"
      ]
    },
    {
      "cell_type": "markdown",
      "source": [
        "** Aplicação do algoritmo KNN num problema de classificação.\n",
        "- Dados disponibilizados pela biblioteca #sklearn\n",
        "- Dados com ortulos originais ja dispobnibilizados\n",
        "\n",
        "Objetivo: Identificar diferente especies de flores nos dados disponiveis(setosa, virginica, ). classificar o cojnto de dados de modo a identificar entre variados tipos de flores. analisar caracteristicas do dado e classifica-lo como parte de um cojunto maior de especies.**\n",
        "\n"
      ],
      "metadata": {
        "id": "uk-tumQqYn9I"
      }
    },
    {
      "cell_type": "markdown",
      "source": [
        "Importar bibliotecas e dados a serem utilizados\n"
      ],
      "metadata": {
        "id": "WQUbljvhZxS-"
      }
    },
    {
      "cell_type": "code",
      "execution_count": null,
      "metadata": {
        "id": "Di0-C2QJR5Bv"
      },
      "outputs": [],
      "source": [
        "from sklearn.neighbors import KNeighborsClassifier\n",
        "from sklearn.datasets import load_iris\n",
        "from sklearn.model_selection import train_test_split\n",
        "from sklearn.metrics import classification_report"
      ]
    },
    {
      "cell_type": "markdown",
      "source": [
        "Fazendo carremendo de dados\n",
        "\n"
      ],
      "metadata": {
        "id": "1rZtScUjYktJ"
      }
    },
    {
      "cell_type": "code",
      "source": [
        "X,y = load_iris(return_X_y=True)\n"
      ],
      "metadata": {
        "id": "L9hTI5w5XIkW"
      },
      "execution_count": null,
      "outputs": []
    },
    {
      "cell_type": "markdown",
      "source": [
        "Separando o cojunto de treinamento e teste"
      ],
      "metadata": {
        "id": "NzmmY3mpaYKZ"
      }
    },
    {
      "cell_type": "code",
      "source": [
        " X_train,X_test, y_train, y_test = train_test_split(X,y,  test_size=0.3, random_state=13, shuffle=True)"
      ],
      "metadata": {
        "id": "s4NZUgJ8aUhf"
      },
      "execution_count": null,
      "outputs": []
    },
    {
      "cell_type": "markdown",
      "source": [
        "número de vizinhos para fazer a avaliação"
      ],
      "metadata": {
        "id": "CBaIy3VRbd4P"
      }
    },
    {
      "cell_type": "code",
      "source": [
        "n_neighbors = 10"
      ],
      "metadata": {
        "id": "fjmeWLs9aSOx"
      },
      "execution_count": null,
      "outputs": []
    },
    {
      "cell_type": "markdown",
      "source": [
        "Criando um classificado - instancia do KNN"
      ],
      "metadata": {
        "id": "Hz7BzsSIbZSO"
      }
    },
    {
      "cell_type": "code",
      "source": [
        "clf_knn = KNeighborsClassifier(n_neighbors= 10).fit(X_train, y_train)\n",
        "\n",
        "# fit(X_train, y_train) foi adicionado a esta linha pois  KNeighborsClassifier() retorna um objeto do tipo KNN"
      ],
      "metadata": {
        "id": "dOQgrFxhbYge"
      },
      "execution_count": null,
      "outputs": []
    },
    {
      "cell_type": "code",
      "source": [
        "y_predict= clf_knn.predict(X_test)\n",
        "\n",
        "#y_predict guarda os rotulos das classes"
      ],
      "metadata": {
        "id": "ENqO_WYOb6wg"
      },
      "execution_count": null,
      "outputs": []
    },
    {
      "cell_type": "markdown",
      "source": [
        "AVALIANDO A CLASSIFICAÇÃO"
      ],
      "metadata": {
        "id": "osg2MiTKd-9n"
      }
    },
    {
      "cell_type": "code",
      "source": [
        "print(classification_report(y_test, y_predict, target_names=load_iris().target_names))"
      ],
      "metadata": {
        "colab": {
          "base_uri": "https://localhost:8080/"
        },
        "id": "4EUVFUYzd-vQ",
        "outputId": "8e2e25a7-98de-4572-a41c-af350dfcf6c3"
      },
      "execution_count": null,
      "outputs": [
        {
          "output_type": "stream",
          "name": "stdout",
          "text": [
            "              precision    recall  f1-score   support\n",
            "\n",
            "      setosa       1.00      1.00      1.00        14\n",
            "  versicolor       0.80      1.00      0.89        12\n",
            "   virginica       1.00      0.84      0.91        19\n",
            "\n",
            "    accuracy                           0.93        45\n",
            "   macro avg       0.93      0.95      0.93        45\n",
            "weighted avg       0.95      0.93      0.93        45\n",
            "\n"
          ]
        }
      ]
    },
    {
      "cell_type": "code",
      "source": [],
      "metadata": {
        "id": "7Cyr8I7Dd-Hh"
      },
      "execution_count": null,
      "outputs": []
    },
    {
      "cell_type": "code",
      "source": [
        "X.head"
      ],
      "metadata": {
        "colab": {
          "base_uri": "https://localhost:8080/",
          "height": 175
        },
        "id": "eK-WrvoKw7az",
        "outputId": "2a03baa2-2aec-4abe-ee6b-756fd0dcabda"
      },
      "execution_count": null,
      "outputs": [
        {
          "output_type": "error",
          "ename": "AttributeError",
          "evalue": "ignored",
          "traceback": [
            "\u001b[0;31m---------------------------------------------------------------------------\u001b[0m",
            "\u001b[0;31mAttributeError\u001b[0m                            Traceback (most recent call last)",
            "\u001b[0;32m<ipython-input-40-d89778ede156>\u001b[0m in \u001b[0;36m<cell line: 1>\u001b[0;34m()\u001b[0m\n\u001b[0;32m----> 1\u001b[0;31m \u001b[0mX\u001b[0m\u001b[0;34m.\u001b[0m\u001b[0mhead\u001b[0m\u001b[0;34m\u001b[0m\u001b[0;34m\u001b[0m\u001b[0m\n\u001b[0m",
            "\u001b[0;31mAttributeError\u001b[0m: 'numpy.ndarray' object has no attribute 'head'"
          ]
        }
      ]
    }
  ]
}