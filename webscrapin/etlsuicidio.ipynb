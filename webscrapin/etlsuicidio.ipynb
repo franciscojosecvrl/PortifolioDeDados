{
 "cells": [
  {
   "cell_type": "code",
   "execution_count": 22,
   "metadata": {},
   "outputs": [
    {
     "name": "stdout",
     "output_type": "stream",
     "text": [
      "hello\n",
      "\n"
     ]
    }
   ],
   "source": [
    "print(\"hello\")\n",
    "print('')"
   ]
  },
  {
   "cell_type": "markdown",
   "metadata": {},
   "source": [
    "Importando bibliotecas necessarias para manipualçao de tela\n"
   ]
  },
  {
   "cell_type": "code",
   "execution_count": 23,
   "metadata": {},
   "outputs": [
    {
     "name": "stderr",
     "output_type": "stream",
     "text": [
      "C:\\Users\\tonho\\AppData\\Local\\Temp\\ipykernel_1064\\3734789300.py:14: DeprecationWarning: executable_path has been deprecated, please pass in a Service object\n",
      "  driver = webdriver.Chrome(r'C:\\Users\\tonho\\OneDrive\\Documentos\\portifoliodedados\\webscaping\\chromedriver-win64\\chromedriver.exe', options=chrome_options)\n"
     ]
    }
   ],
   "source": [
    "from selenium import webdriver\n",
    "from selenium.webdriver.chrome.options import Options  \n",
    "\n",
    "from selenium import webdriver \n",
    "from selenium.webdriver.support import expected_conditions as EC\n",
    "from selenium.webdriver.common.by import By\n",
    "from selenium.webdriver.support.ui import WebDriverWait\n",
    "\n",
    "chrome_options = Options()\n",
    "## faz com que o browser não abra durante o processo\n",
    "# //chrome_options.add_argument(\"--headless\") \n",
    "## caminho para o seu webdriver\n",
    "# r antes das aspas cria uma string de barra invertida crua\n",
    "driver = webdriver.Chrome(r'C:\\Users\\tonho\\OneDrive\\Documentos\\portifoliodedados\\webscaping\\chromedriver-win64\\chromedriver.exe', options=chrome_options)\n"
   ]
  },
  {
   "cell_type": "markdown",
   "metadata": {},
   "source": [
    "Abrindo o site de onde os dados serão acessados.\n",
    "Neste caso usaremos um grupo especificos de dados do Atlas da violencia no Brasil.\n",
    "Os dados acessados estão disponiveis em arquivos .csv disponiveis para doenload pro grupos sociais estebalecidos na proria psquisa\n",
    " \n"
   ]
  },
  {
   "cell_type": "code",
   "execution_count": 24,
   "metadata": {},
   "outputs": [],
   "source": [
    "\n",
    "#Estabelece conexaão com a janela desejada\n",
    "\n",
    "driver.get(\"https://www.ipea.gov.br/atlasviolencia/filtros-series/16/suicidios\")"
   ]
  },
  {
   "cell_type": "markdown",
   "metadata": {},
   "source": [
    "Iniciando extração por webscraping com a biblioteca selenium "
   ]
  },
  {
   "cell_type": "code",
   "execution_count": 25,
   "metadata": {},
   "outputs": [],
   "source": [
    "#baixando o metadados .txt\n",
    "# Esperar até que o botão de download seja clicável por até 10 segundos\n",
    "wait = WebDriverWait(driver, 10)\n",
    "botao_download = wait.until(EC.element_to_be_clickable((By.XPATH, '//*[@id=\"filtros\"]/div/div[2]/div[2]/div[4]/div/table/tbody/tr[2]/td[9]')))\n",
    "\n",
    "# Clique no botão\n",
    "botao_download.click()"
   ]
  },
  {
   "cell_type": "code",
   "execution_count": 26,
   "metadata": {},
   "outputs": [],
   "source": [
    "#baixando o metadados .csv\n",
    "# Esperar até que o botão de download seja clicável por até 10 segundos\n",
    "import time\n",
    "wait = WebDriverWait(driver, 10)\n",
    "botao_abre_modalDownload = wait.until(EC.element_to_be_clickable((By.XPATH,'//*[@id=\"filtros\"]/div/div[2]/div[2]/div[4]/div/table/tbody/tr[2]/td[8]')))\n",
    "# Clique no botão para abrir a lista de csv\n",
    "botao_abre_modalDownload.click() \n",
    "\n",
    "\n",
    "\n",
    "\n",
    "# Mude o foco para a nova janela (modal-downloads)\n",
    "botao_download = wait.until(EC.element_to_be_clickable((By.XPATH,'//*[@id=\"modalDownloads\"]/div/div/div[2]/div/div/div[1]/div/table/tr[1]/td/form/button')))\n",
    "botao_download.click()\n",
    "#driver.close()\n",
    "\n",
    "#observação: o mesmo objeto wait dvera ser usado durante todo bloo de processo que voce for executar, do contrario instanciar\n",
    "# novo objeto para nao gerar conflito. \n",
    "\n",
    "#incluir um try exception\n",
    "#automatizr donwload de todos os arquivos usando uma string generica com for "
   ]
  },
  {
   "cell_type": "markdown",
   "metadata": {},
   "source": [
    "Acessando arquivos do dowload"
   ]
  },
  {
   "cell_type": "code",
   "execution_count": 28,
   "metadata": {},
   "outputs": [],
   "source": [
    "#tranform\n",
    "#acessando arquivo do dowload\n"
   ]
  }
 ],
 "metadata": {
  "kernelspec": {
   "display_name": "Python 3",
   "language": "python",
   "name": "python3"
  },
  "language_info": {
   "codemirror_mode": {
    "name": "ipython",
    "version": 3
   },
   "file_extension": ".py",
   "mimetype": "text/x-python",
   "name": "python",
   "nbconvert_exporter": "python",
   "pygments_lexer": "ipython3",
   "version": "3.10.2"
  },
  "orig_nbformat": 4
 },
 "nbformat": 4,
 "nbformat_minor": 2
}
