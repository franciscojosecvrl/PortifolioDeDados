{
 "cells": [
  {
   "cell_type": "code",
   "execution_count": 27,
   "metadata": {},
   "outputs": [
    {
     "name": "stdout",
     "output_type": "stream",
     "text": [
      "hello\n",
      "\n"
     ]
    }
   ],
   "source": [
    "print(\"hello\")\n",
    "print('')"
   ]
  },
  {
   "cell_type": "code",
   "execution_count": 37,
   "metadata": {},
   "outputs": [
    {
     "name": "stderr",
     "output_type": "stream",
     "text": [
      "C:\\Users\\tonho\\AppData\\Local\\Temp\\ipykernel_5540\\3734789300.py:14: DeprecationWarning: executable_path has been deprecated, please pass in a Service object\n",
      "  driver = webdriver.Chrome(r'C:\\Users\\tonho\\OneDrive\\Documentos\\portifoliodedados\\webscaping\\chromedriver-win64\\chromedriver.exe', options=chrome_options)\n"
     ]
    }
   ],
   "source": [
    "from selenium import webdriver\n",
    "from selenium.webdriver.chrome.options import Options  \n",
    "\n",
    "from selenium import webdriver \n",
    "from selenium.webdriver.support import expected_conditions as EC\n",
    "from selenium.webdriver.common.by import By\n",
    "from selenium.webdriver.support.ui import WebDriverWait\n",
    "\n",
    "chrome_options = Options()\n",
    "## faz com que o browser não abra durante o processo\n",
    "# //chrome_options.add_argument(\"--headless\") \n",
    "## caminho para o seu webdriver\n",
    "# r antes das aspas cria uma string de barra invertida crua\n",
    "driver = webdriver.Chrome(r'C:\\Users\\tonho\\OneDrive\\Documentos\\portifoliodedados\\webscaping\\chromedriver-win64\\chromedriver.exe', options=chrome_options)\n"
   ]
  },
  {
   "cell_type": "code",
   "execution_count": 38,
   "metadata": {},
   "outputs": [],
   "source": [
    "\n",
    "#Estabelece o tempo \n",
    "#wait = WebDriverWait(driver, 10)\n",
    "#aguarda até o elemento com certo ID ser clicável\n",
    "#wait.until(EC.element_to_be_clickable((By.ID, 'id_do_elemento')))\n",
    "\n",
    "driver.get(\"https://www.ipea.gov.br/atlasviolencia/filtros-series/16/suicidios\")"
   ]
  },
  {
   "cell_type": "code",
   "execution_count": 40,
   "metadata": {},
   "outputs": [],
   "source": [
    "# Esperar até que o botão de download seja clicável por até 10 segundos\n",
    "wait = WebDriverWait(driver, 10)\n",
    "botao_download = wait.until(EC.element_to_be_clickable((By.XPATH, '//*[@id=\"filtros\"]/div/div[2]/div[2]/div[4]/div/table/tbody/tr[2]/td[9]')))\n",
    "\n",
    "# Clique no botão\n",
    "botao_download.click()"
   ]
  },
  {
   "cell_type": "code",
   "execution_count": 20,
   "metadata": {},
   "outputs": [],
   "source": [
    "\n",
    "botoes = driver.find_element(By.CSS_SELECTOR,'i.fa.fa-file-excel-o')\n",
    "# Clicar no segundo botão na lista (índice 1, pois os índices começam do zero)\n",
    "botoes.click()"
   ]
  }
 ],
 "metadata": {
  "kernelspec": {
   "display_name": "Python 3",
   "language": "python",
   "name": "python3"
  },
  "language_info": {
   "codemirror_mode": {
    "name": "ipython",
    "version": 3
   },
   "file_extension": ".py",
   "mimetype": "text/x-python",
   "name": "python",
   "nbconvert_exporter": "python",
   "pygments_lexer": "ipython3",
   "version": "3.10.2"
  },
  "orig_nbformat": 4
 },
 "nbformat": 4,
 "nbformat_minor": 2
}
