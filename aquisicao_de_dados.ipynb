{
 "cells": [
  {
   "cell_type": "markdown",
   "metadata": {},
   "source": [
    "Importando bibliotecas necessarias para manipualçao de dados\n"
   ]
  },
  {
   "cell_type": "code",
   "execution_count": 117,
   "metadata": {},
   "outputs": [],
   "source": [
    "import pandas as pd\n",
    "import numpy as np\n",
    "import requests\n",
    "import urllib.request\n",
    "import os\n",
    "from glob import glob\n",
    "\n",
    "#Visualização de Dados\n",
    "import seaborn as sb \n",
    "import matplotlib.pyplot as plt "
   ]
  },
  {
   "cell_type": "markdown",
   "metadata": {},
   "source": [
    "    \n",
    "    \"\"\"\n",
    "7Fazendo aquisição de dados na pagina web \n",
    "Metodo e ferramentas de Extração utilizados \n",
    "- Lib resquests\n",
    "\n",
    "    \"\"\"\""
   ]
  },
  {
   "cell_type": "code",
   "execution_count": 11,
   "metadata": {},
   "outputs": [],
   "source": [
    "\n",
    "arquivos_meses2018 = {\n",
    "    \"vra_122018\": \"https://www.gov.br/anac/pt-br/assuntos/dados-e-estatisticas/percentuais-de-atrasos-e-cancelamentos-2/2018/vra_122018.csv\",\n",
    "    \"vra_112018\": \"https://www.gov.br/anac/pt-br/assuntos/dados-e-estatisticas/percentuais-de-atrasos-e-cancelamentos-2/2018/vra_112018.csv\",\n",
    "    \"vra_102018\": \"https://www.gov.br/anac/pt-br/assuntos/dados-e-estatisticas/percentuais-de-atrasos-e-cancelamentos-2/2018/vra_102018.csv\",\n",
    "    \"vra_092018\": \"https://www.gov.br/anac/pt-br/assuntos/dados-e-estatisticas/percentuais-de-atrasos-e-cancelamentos-2/2018/vra_092018.csv\",\n",
    "    \"vra_082018\": \"https://www.gov.br/anac/pt-br/assuntos/dados-e-estatisticas/percentuais-de-atrasos-e-cancelamentos-2/2018/vra_082018.csv\",\n",
    "    \"vra_072018\": \"https://www.gov.br/anac/pt-br/assuntos/dados-e-estatisticas/percentuais-de-atrasos-e-cancelamentos-2/2018/vra_072018.csv\",\n",
    "    \"vra_062018\": \"https://www.gov.br/anac/pt-br/assuntos/dados-e-estatisticas/percentuais-de-atrasos-e-cancelamentos-2/2018/vra_062018.csv\",\n",
    "    \"vra_05.csv\": \"https://www.gov.br/anac/pt-br/assuntos/dados-e-estatisticas/percentuais-de-atrasos-e-cancelamentos-2/2018/vra_05.csv\",\n",
    "    \"vra_04.csv\": \"https://www.gov.br/anac/pt-br/assuntos/dados-e-estatisticas/percentuais-de-atrasos-e-cancelamentos-2/2018/vra_04.csv\",\n",
    "    \"vra_032018\": \"https://www.gov.br/anac/pt-br/assuntos/dados-e-estatisticas/percentuais-de-atrasos-e-cancelamentos-2/2018/vra_032018.csv\",\n",
    "    \"vra-02_2018\": \"https://www.gov.br/anac/pt-br/assuntos/dados-e-estatisticas/percentuais-de-atrasos-e-cancelamentos-2/2018/vra-02_2018.csv\",\n",
    "    \"vra-01_2018\": \"https://www.gov.br/anac/pt-br/assuntos/dados-e-estatisticas/percentuais-de-atrasos-e-cancelamentos-2/2018/vra-01_2018.csv\"\n",
    "}\n",
    "\n",
    "\n"
   ]
  },
  {
   "cell_type": "code",
   "execution_count": 12,
   "metadata": {},
   "outputs": [
    {
     "name": "stdout",
     "output_type": "stream",
     "text": [
      "Arquivo 1 baixado em: C:\\Users\\tonho\\OneDrive\\Documentos\\portifoliodedados\\webscaping\\PortifolioDeDados\\caseGOL\\vra_122018.csv\n",
      "Arquivo 2 baixado em: C:\\Users\\tonho\\OneDrive\\Documentos\\portifoliodedados\\webscaping\\PortifolioDeDados\\caseGOL\\vra_112018.csv\n",
      "Arquivo 3 baixado em: C:\\Users\\tonho\\OneDrive\\Documentos\\portifoliodedados\\webscaping\\PortifolioDeDados\\caseGOL\\vra_102018.csv\n",
      "Arquivo 4 baixado em: C:\\Users\\tonho\\OneDrive\\Documentos\\portifoliodedados\\webscaping\\PortifolioDeDados\\caseGOL\\vra_092018.csv\n",
      "Arquivo 5 baixado em: C:\\Users\\tonho\\OneDrive\\Documentos\\portifoliodedados\\webscaping\\PortifolioDeDados\\caseGOL\\vra_082018.csv\n",
      "Arquivo 6 baixado em: C:\\Users\\tonho\\OneDrive\\Documentos\\portifoliodedados\\webscaping\\PortifolioDeDados\\caseGOL\\vra_072018.csv\n",
      "Arquivo 7 baixado em: C:\\Users\\tonho\\OneDrive\\Documentos\\portifoliodedados\\webscaping\\PortifolioDeDados\\caseGOL\\vra_062018.csv\n",
      "Arquivo 8 baixado em: C:\\Users\\tonho\\OneDrive\\Documentos\\portifoliodedados\\webscaping\\PortifolioDeDados\\caseGOL\\vra_05.csv.csv\n",
      "Arquivo 9 baixado em: C:\\Users\\tonho\\OneDrive\\Documentos\\portifoliodedados\\webscaping\\PortifolioDeDados\\caseGOL\\vra_04.csv.csv\n",
      "Arquivo 10 baixado em: C:\\Users\\tonho\\OneDrive\\Documentos\\portifoliodedados\\webscaping\\PortifolioDeDados\\caseGOL\\vra_032018.csv\n",
      "Arquivo 11 baixado em: C:\\Users\\tonho\\OneDrive\\Documentos\\portifoliodedados\\webscaping\\PortifolioDeDados\\caseGOL\\vra-02_2018.csv\n",
      "Arquivo 12 baixado em: C:\\Users\\tonho\\OneDrive\\Documentos\\portifoliodedados\\webscaping\\PortifolioDeDados\\caseGOL\\vra-01_2018.csv\n"
     ]
    }
   ],
   "source": [
    "#fazendo requisição dos aquivos\n",
    "#utilizando a biblioteca requests para acessar o pacote de dados que precisamos para manipulação \n",
    "\n",
    "\n",
    "for i, url_arquivo in enumerate(arquivos_meses2018.values(), start=1):\n",
    "    caminho_destino = 'C:\\\\Users\\\\tonho\\\\OneDrive\\\\Documentos\\\\portifoliodedados\\\\webscaping\\\\PortifolioDeDados\\\\caseGOL\\\\{}.csv'.format(list(arquivos_meses2018.keys())[i-1])\n",
    "    # response = requests.get(url_arquivo)\n",
    "    with open(caminho_destino, 'wb') as file:\n",
    "        file.write(requests.get(url_arquivo).content)\n",
    "        print(f\"Arquivo {i} baixado em: {caminho_destino}\")\n"
   ]
  },
  {
   "cell_type": "markdown",
   "metadata": {},
   "source": [
    "Acessando arquivos \n",
    "\n",
    " \n"
   ]
  },
  {
   "cell_type": "code",
   "execution_count": 3,
   "metadata": {},
   "outputs": [
    {
     "name": "stderr",
     "output_type": "stream",
     "text": [
      "C:\\Users\\tonho\\AppData\\Local\\Temp\\ipykernel_11316\\2255298475.py:6: DtypeWarning: Columns (2) have mixed types. Specify dtype option on import or set low_memory=False.\n",
      "  lista_df_meses2018.append(pd.read_csv(arquivo_mes,sep=';' , encoding='latin-1'))\n",
      "C:\\Users\\tonho\\AppData\\Local\\Temp\\ipykernel_11316\\2255298475.py:6: DtypeWarning: Columns (2) have mixed types. Specify dtype option on import or set low_memory=False.\n",
      "  lista_df_meses2018.append(pd.read_csv(arquivo_mes,sep=';' , encoding='latin-1'))\n",
      "C:\\Users\\tonho\\AppData\\Local\\Temp\\ipykernel_11316\\2255298475.py:6: DtypeWarning: Columns (2) have mixed types. Specify dtype option on import or set low_memory=False.\n",
      "  lista_df_meses2018.append(pd.read_csv(arquivo_mes,sep=';' , encoding='latin-1'))\n"
     ]
    }
   ],
   "source": [
    "\n",
    "import glob\n",
    "Lista_meses2018 = glob.glob(r'C:\\Users\\tonho\\OneDrive\\Documentos\\portifoliodedados\\webscaping\\PortifolioDeDados\\caseGOL\\*.csv')\n",
    "# 'arquivos' agora é um array com o nome de todos os .csv que começam com 'arquivo'\n",
    "lista_df_meses2018 = []\n",
    "for arquivo_mes in Lista_meses2018:\n",
    "   lista_df_meses2018.append(pd.read_csv(arquivo_mes,sep=';' , encoding='latin-1'))\n",
    "\n"
   ]
  },
  {
   "cell_type": "code",
   "execution_count": 4,
   "metadata": {},
   "outputs": [],
   "source": [
    "for lista_datasets in lista_df_meses2018 :\n",
    "    # Converta todas as colunas para 'category'\n",
    "    lista_datasets2018 = lista_datasets.astype('object')"
   ]
  },
  {
   "cell_type": "code",
   "execution_count": 5,
   "metadata": {},
   "outputs": [
    {
     "data": {
      "text/html": [
       "<div>\n",
       "<style scoped>\n",
       "    .dataframe tbody tr th:only-of-type {\n",
       "        vertical-align: middle;\n",
       "    }\n",
       "\n",
       "    .dataframe tbody tr th {\n",
       "        vertical-align: top;\n",
       "    }\n",
       "\n",
       "    .dataframe thead th {\n",
       "        text-align: right;\n",
       "    }\n",
       "</style>\n",
       "<table border=\"1\" class=\"dataframe\">\n",
       "  <thead>\n",
       "    <tr style=\"text-align: right;\">\n",
       "      <th></th>\n",
       "      <th>ICAO Empresa Aérea</th>\n",
       "      <th>Número Voo</th>\n",
       "      <th>Código DI</th>\n",
       "      <th>Código Tipo Linha</th>\n",
       "      <th>ICAO Aeródromo Origem</th>\n",
       "      <th>ICAO Aeródromo Destino</th>\n",
       "      <th>Partida Prevista</th>\n",
       "      <th>Partida Real</th>\n",
       "      <th>Chegada Prevista</th>\n",
       "      <th>Chegada Real</th>\n",
       "      <th>Situação Voo</th>\n",
       "      <th>Código Justificativa</th>\n",
       "    </tr>\n",
       "  </thead>\n",
       "  <tbody>\n",
       "    <tr>\n",
       "      <th>0</th>\n",
       "      <td>AAL</td>\n",
       "      <td>213</td>\n",
       "      <td>0.0</td>\n",
       "      <td>I</td>\n",
       "      <td>KMIA</td>\n",
       "      <td>SBBR</td>\n",
       "      <td>01/12/2018 02:15</td>\n",
       "      <td>01/12/2018 03:11</td>\n",
       "      <td>01/12/2018 09:50</td>\n",
       "      <td>01/12/2018 10:35</td>\n",
       "      <td>REALIZADO</td>\n",
       "      <td>MX</td>\n",
       "    </tr>\n",
       "    <tr>\n",
       "      <th>1</th>\n",
       "      <td>AAL</td>\n",
       "      <td>213</td>\n",
       "      <td>0.0</td>\n",
       "      <td>I</td>\n",
       "      <td>KMIA</td>\n",
       "      <td>SBBR</td>\n",
       "      <td>02/12/2018 02:15</td>\n",
       "      <td>02/12/2018 02:15</td>\n",
       "      <td>02/12/2018 09:50</td>\n",
       "      <td>02/12/2018 09:50</td>\n",
       "      <td>REALIZADO</td>\n",
       "      <td>NaN</td>\n",
       "    </tr>\n",
       "    <tr>\n",
       "      <th>2</th>\n",
       "      <td>AAL</td>\n",
       "      <td>213</td>\n",
       "      <td>0.0</td>\n",
       "      <td>I</td>\n",
       "      <td>KMIA</td>\n",
       "      <td>SBBR</td>\n",
       "      <td>03/12/2018 02:15</td>\n",
       "      <td>03/12/2018 02:15</td>\n",
       "      <td>03/12/2018 09:50</td>\n",
       "      <td>03/12/2018 09:50</td>\n",
       "      <td>REALIZADO</td>\n",
       "      <td>NaN</td>\n",
       "    </tr>\n",
       "    <tr>\n",
       "      <th>3</th>\n",
       "      <td>AAL</td>\n",
       "      <td>213</td>\n",
       "      <td>0.0</td>\n",
       "      <td>I</td>\n",
       "      <td>KMIA</td>\n",
       "      <td>SBBR</td>\n",
       "      <td>04/12/2018 02:15</td>\n",
       "      <td>04/12/2018 02:15</td>\n",
       "      <td>04/12/2018 09:50</td>\n",
       "      <td>04/12/2018 09:50</td>\n",
       "      <td>REALIZADO</td>\n",
       "      <td>NaN</td>\n",
       "    </tr>\n",
       "    <tr>\n",
       "      <th>4</th>\n",
       "      <td>AAL</td>\n",
       "      <td>213</td>\n",
       "      <td>0.0</td>\n",
       "      <td>I</td>\n",
       "      <td>KMIA</td>\n",
       "      <td>SBBR</td>\n",
       "      <td>05/12/2018 02:15</td>\n",
       "      <td>05/12/2018 02:15</td>\n",
       "      <td>05/12/2018 09:50</td>\n",
       "      <td>05/12/2018 09:50</td>\n",
       "      <td>REALIZADO</td>\n",
       "      <td>NaN</td>\n",
       "    </tr>\n",
       "  </tbody>\n",
       "</table>\n",
       "</div>"
      ],
      "text/plain": [
       "  ICAO Empresa Aérea Número Voo Código DI Código Tipo Linha  \\\n",
       "0                AAL        213       0.0                 I   \n",
       "1                AAL        213       0.0                 I   \n",
       "2                AAL        213       0.0                 I   \n",
       "3                AAL        213       0.0                 I   \n",
       "4                AAL        213       0.0                 I   \n",
       "\n",
       "  ICAO Aeródromo Origem ICAO Aeródromo Destino  Partida Prevista  \\\n",
       "0                  KMIA                   SBBR  01/12/2018 02:15   \n",
       "1                  KMIA                   SBBR  02/12/2018 02:15   \n",
       "2                  KMIA                   SBBR  03/12/2018 02:15   \n",
       "3                  KMIA                   SBBR  04/12/2018 02:15   \n",
       "4                  KMIA                   SBBR  05/12/2018 02:15   \n",
       "\n",
       "       Partida Real  Chegada Prevista      Chegada Real Situação Voo  \\\n",
       "0  01/12/2018 03:11  01/12/2018 09:50  01/12/2018 10:35    REALIZADO   \n",
       "1  02/12/2018 02:15  02/12/2018 09:50  02/12/2018 09:50    REALIZADO   \n",
       "2  03/12/2018 02:15  03/12/2018 09:50  03/12/2018 09:50    REALIZADO   \n",
       "3  04/12/2018 02:15  04/12/2018 09:50  04/12/2018 09:50    REALIZADO   \n",
       "4  05/12/2018 02:15  05/12/2018 09:50  05/12/2018 09:50    REALIZADO   \n",
       "\n",
       "  Código Justificativa  \n",
       "0                   MX  \n",
       "1                  NaN  \n",
       "2                  NaN  \n",
       "3                  NaN  \n",
       "4                  NaN  "
      ]
     },
     "execution_count": 5,
     "metadata": {},
     "output_type": "execute_result"
    }
   ],
   "source": [
    "lista_datasets2018.head()"
   ]
  },
  {
   "cell_type": "code",
   "execution_count": 71,
   "metadata": {},
   "outputs": [],
   "source": [
    "df_aerodromos_publicos_nacionais = pd.read_csv('cadastro-de-aerodromos-civis-publicos.csv', usecols=['Aeródromo'], sep=';' , encoding='utf-8')"
   ]
  },
  {
   "cell_type": "code",
   "execution_count": 76,
   "metadata": {},
   "outputs": [
    {
     "data": {
      "text/html": [
       "<div>\n",
       "<style scoped>\n",
       "    .dataframe tbody tr th:only-of-type {\n",
       "        vertical-align: middle;\n",
       "    }\n",
       "\n",
       "    .dataframe tbody tr th {\n",
       "        vertical-align: top;\n",
       "    }\n",
       "\n",
       "    .dataframe thead th {\n",
       "        text-align: right;\n",
       "    }\n",
       "</style>\n",
       "<table border=\"1\" class=\"dataframe\">\n",
       "  <thead>\n",
       "    <tr style=\"text-align: right;\">\n",
       "      <th></th>\n",
       "      <th>Aeródromo</th>\n",
       "    </tr>\n",
       "  </thead>\n",
       "  <tbody>\n",
       "    <tr>\n",
       "      <th>1</th>\n",
       "      <td>SBAA</td>\n",
       "    </tr>\n",
       "    <tr>\n",
       "      <th>2</th>\n",
       "      <td>SBAE</td>\n",
       "    </tr>\n",
       "    <tr>\n",
       "      <th>3</th>\n",
       "      <td>SBAQ</td>\n",
       "    </tr>\n",
       "    <tr>\n",
       "      <th>4</th>\n",
       "      <td>SBAR</td>\n",
       "    </tr>\n",
       "    <tr>\n",
       "      <th>5</th>\n",
       "      <td>SBAT</td>\n",
       "    </tr>\n",
       "    <tr>\n",
       "      <th>...</th>\n",
       "      <td>...</td>\n",
       "    </tr>\n",
       "    <tr>\n",
       "      <th>496</th>\n",
       "      <td>SJ4Y</td>\n",
       "    </tr>\n",
       "    <tr>\n",
       "      <th>497</th>\n",
       "      <td>SI68</td>\n",
       "    </tr>\n",
       "    <tr>\n",
       "      <th>498</th>\n",
       "      <td>SN6L</td>\n",
       "    </tr>\n",
       "    <tr>\n",
       "      <th>499</th>\n",
       "      <td>SBFS</td>\n",
       "    </tr>\n",
       "    <tr>\n",
       "      <th>500</th>\n",
       "      <td>SN3Y</td>\n",
       "    </tr>\n",
       "  </tbody>\n",
       "</table>\n",
       "<p>500 rows × 1 columns</p>\n",
       "</div>"
      ],
      "text/plain": [
       "    Aeródromo\n",
       "1        SBAA\n",
       "2        SBAE\n",
       "3        SBAQ\n",
       "4        SBAR\n",
       "5        SBAT\n",
       "..        ...\n",
       "496      SJ4Y\n",
       "497      SI68\n",
       "498      SN6L\n",
       "499      SBFS\n",
       "500      SN3Y\n",
       "\n",
       "[500 rows x 1 columns]"
      ]
     },
     "execution_count": 76,
     "metadata": {},
     "output_type": "execute_result"
    }
   ],
   "source": [
    "df_aerodromos_publicos_nacionais.drop(0, axis=0)"
   ]
  },
  {
   "cell_type": "markdown",
   "metadata": {},
   "source": [
    "Coleta de dados dos Aerodromos nacionais"
   ]
  },
  {
   "cell_type": "code",
   "execution_count": 77,
   "metadata": {},
   "outputs": [],
   "source": [
    "lista_datasets2018 =lista_datasets2018[lista_datasets2018['ICAO Empresa Aérea'].isin(['GLO','AZU','TAM'])]"
   ]
  },
  {
   "cell_type": "code",
   "execution_count": 95,
   "metadata": {},
   "outputs": [],
   "source": [
    "df_aerodromos_publicos_nacionais.drop(0, axis= 0, inplace=True)"
   ]
  },
  {
   "cell_type": "code",
   "execution_count": 96,
   "metadata": {},
   "outputs": [
    {
     "data": {
      "text/html": [
       "<div>\n",
       "<style scoped>\n",
       "    .dataframe tbody tr th:only-of-type {\n",
       "        vertical-align: middle;\n",
       "    }\n",
       "\n",
       "    .dataframe tbody tr th {\n",
       "        vertical-align: top;\n",
       "    }\n",
       "\n",
       "    .dataframe thead th {\n",
       "        text-align: right;\n",
       "    }\n",
       "</style>\n",
       "<table border=\"1\" class=\"dataframe\">\n",
       "  <thead>\n",
       "    <tr style=\"text-align: right;\">\n",
       "      <th></th>\n",
       "      <th>Aeródromo</th>\n",
       "    </tr>\n",
       "  </thead>\n",
       "  <tbody>\n",
       "    <tr>\n",
       "      <th>1</th>\n",
       "      <td>SBAA</td>\n",
       "    </tr>\n",
       "    <tr>\n",
       "      <th>2</th>\n",
       "      <td>SBAE</td>\n",
       "    </tr>\n",
       "    <tr>\n",
       "      <th>3</th>\n",
       "      <td>SBAQ</td>\n",
       "    </tr>\n",
       "    <tr>\n",
       "      <th>4</th>\n",
       "      <td>SBAR</td>\n",
       "    </tr>\n",
       "    <tr>\n",
       "      <th>5</th>\n",
       "      <td>SBAT</td>\n",
       "    </tr>\n",
       "  </tbody>\n",
       "</table>\n",
       "</div>"
      ],
      "text/plain": [
       "  Aeródromo\n",
       "1      SBAA\n",
       "2      SBAE\n",
       "3      SBAQ\n",
       "4      SBAR\n",
       "5      SBAT"
      ]
     },
     "execution_count": 96,
     "metadata": {},
     "output_type": "execute_result"
    }
   ],
   "source": [
    "df_aerodromos_publicos_nacionais.head()"
   ]
  },
  {
   "cell_type": "markdown",
   "metadata": {},
   "source": [
    "#Estabelece uma condição para verificar se o aerodro de destino e chega são nacionais, o que configurara\n",
    "#um voo nacional"
   ]
  },
  {
   "cell_type": "code",
   "execution_count": 88,
   "metadata": {},
   "outputs": [],
   "source": [
    "condicao_origem = lista_datasets2018['ICAO Aeródromo Origem'].isin(df_aerodromos_publicos_nacionais['Aeródromo'])\n",
    "condicao_destino = lista_datasets2018['ICAO Aeródromo Destino'].isin(df_aerodromos_publicos_nacionais['Aeródromo'])\n",
    "\n",
    "# Aplicar as condições\n",
    "lista_datasets2018 = lista_datasets2018[condicao_origem & condicao_destino]\n",
    "\n",
    "# Resultado\n",
    "\n"
   ]
  },
  {
   "cell_type": "code",
   "execution_count": 89,
   "metadata": {},
   "outputs": [
    {
     "data": {
      "text/html": [
       "<div>\n",
       "<style scoped>\n",
       "    .dataframe tbody tr th:only-of-type {\n",
       "        vertical-align: middle;\n",
       "    }\n",
       "\n",
       "    .dataframe tbody tr th {\n",
       "        vertical-align: top;\n",
       "    }\n",
       "\n",
       "    .dataframe thead th {\n",
       "        text-align: right;\n",
       "    }\n",
       "</style>\n",
       "<table border=\"1\" class=\"dataframe\">\n",
       "  <thead>\n",
       "    <tr style=\"text-align: right;\">\n",
       "      <th></th>\n",
       "      <th>ICAO Empresa Aérea</th>\n",
       "      <th>Número Voo</th>\n",
       "      <th>Código DI</th>\n",
       "      <th>Código Tipo Linha</th>\n",
       "      <th>ICAO Aeródromo Origem</th>\n",
       "      <th>ICAO Aeródromo Destino</th>\n",
       "      <th>Partida Prevista</th>\n",
       "      <th>Partida Real</th>\n",
       "      <th>Chegada Prevista</th>\n",
       "      <th>Chegada Real</th>\n",
       "      <th>Situação Voo</th>\n",
       "    </tr>\n",
       "  </thead>\n",
       "  <tbody>\n",
       "    <tr>\n",
       "      <th>2518</th>\n",
       "      <td>AZU</td>\n",
       "      <td>2018</td>\n",
       "      <td>0.0</td>\n",
       "      <td>N</td>\n",
       "      <td>SBEG</td>\n",
       "      <td>SBBV</td>\n",
       "      <td>15/12/2018 22:00</td>\n",
       "      <td>15/12/2018 22:00</td>\n",
       "      <td>15/12/2018 23:20</td>\n",
       "      <td>15/12/2018 23:20</td>\n",
       "      <td>REALIZADO</td>\n",
       "    </tr>\n",
       "    <tr>\n",
       "      <th>2519</th>\n",
       "      <td>AZU</td>\n",
       "      <td>2018</td>\n",
       "      <td>0.0</td>\n",
       "      <td>N</td>\n",
       "      <td>SBKP</td>\n",
       "      <td>SBEG</td>\n",
       "      <td>15/12/2018 17:35</td>\n",
       "      <td>15/12/2018 17:31</td>\n",
       "      <td>15/12/2018 21:20</td>\n",
       "      <td>15/12/2018 21:17</td>\n",
       "      <td>REALIZADO</td>\n",
       "    </tr>\n",
       "    <tr>\n",
       "      <th>2520</th>\n",
       "      <td>AZU</td>\n",
       "      <td>2019</td>\n",
       "      <td>7.0</td>\n",
       "      <td>N</td>\n",
       "      <td>SBBR</td>\n",
       "      <td>SBKP</td>\n",
       "      <td>16/12/2018 05:05</td>\n",
       "      <td>16/12/2018 05:01</td>\n",
       "      <td>16/12/2018 06:40</td>\n",
       "      <td>16/12/2018 06:31</td>\n",
       "      <td>REALIZADO</td>\n",
       "    </tr>\n",
       "    <tr>\n",
       "      <th>2521</th>\n",
       "      <td>AZU</td>\n",
       "      <td>2019</td>\n",
       "      <td>9.0</td>\n",
       "      <td>N</td>\n",
       "      <td>SBBV</td>\n",
       "      <td>SBBR</td>\n",
       "      <td>16/12/2018 01:05</td>\n",
       "      <td>16/12/2018 01:05</td>\n",
       "      <td>16/12/2018 04:35</td>\n",
       "      <td>16/12/2018 04:35</td>\n",
       "      <td>REALIZADO</td>\n",
       "    </tr>\n",
       "    <tr>\n",
       "      <th>2522</th>\n",
       "      <td>AZU</td>\n",
       "      <td>2400</td>\n",
       "      <td>0.0</td>\n",
       "      <td>N</td>\n",
       "      <td>SBGR</td>\n",
       "      <td>SBRJ</td>\n",
       "      <td>01/12/2018 06:05</td>\n",
       "      <td>NaN</td>\n",
       "      <td>01/12/2018 07:10</td>\n",
       "      <td>NaN</td>\n",
       "      <td>CANCELADO</td>\n",
       "    </tr>\n",
       "  </tbody>\n",
       "</table>\n",
       "</div>"
      ],
      "text/plain": [
       "     ICAO Empresa Aérea Número Voo Código DI Código Tipo Linha  \\\n",
       "2518                AZU       2018       0.0                 N   \n",
       "2519                AZU       2018       0.0                 N   \n",
       "2520                AZU       2019       7.0                 N   \n",
       "2521                AZU       2019       9.0                 N   \n",
       "2522                AZU       2400       0.0                 N   \n",
       "\n",
       "     ICAO Aeródromo Origem ICAO Aeródromo Destino  Partida Prevista  \\\n",
       "2518                  SBEG                   SBBV  15/12/2018 22:00   \n",
       "2519                  SBKP                   SBEG  15/12/2018 17:35   \n",
       "2520                  SBBR                   SBKP  16/12/2018 05:05   \n",
       "2521                  SBBV                   SBBR  16/12/2018 01:05   \n",
       "2522                  SBGR                   SBRJ  01/12/2018 06:05   \n",
       "\n",
       "          Partida Real  Chegada Prevista      Chegada Real Situação Voo  \n",
       "2518  15/12/2018 22:00  15/12/2018 23:20  15/12/2018 23:20    REALIZADO  \n",
       "2519  15/12/2018 17:31  15/12/2018 21:20  15/12/2018 21:17    REALIZADO  \n",
       "2520  16/12/2018 05:01  16/12/2018 06:40  16/12/2018 06:31    REALIZADO  \n",
       "2521  16/12/2018 01:05  16/12/2018 04:35  16/12/2018 04:35    REALIZADO  \n",
       "2522               NaN  01/12/2018 07:10               NaN    CANCELADO  "
      ]
     },
     "execution_count": 89,
     "metadata": {},
     "output_type": "execute_result"
    }
   ],
   "source": [
    "lista_datasets2018.head()"
   ]
  },
  {
   "cell_type": "code",
   "execution_count": 90,
   "metadata": {},
   "outputs": [
    {
     "name": "stdout",
     "output_type": "stream",
     "text": [
      "<class 'pandas.core.frame.DataFrame'>\n",
      "Index: 62943 entries, 2518 to 85487\n",
      "Data columns (total 11 columns):\n",
      " #   Column                  Non-Null Count  Dtype \n",
      "---  ------                  --------------  ----- \n",
      " 0   ICAO Empresa Aérea      62943 non-null  object\n",
      " 1   Número Voo              62943 non-null  object\n",
      " 2   Código DI               62943 non-null  object\n",
      " 3   Código Tipo Linha       62943 non-null  object\n",
      " 4   ICAO Aeródromo Origem   62943 non-null  object\n",
      " 5   ICAO Aeródromo Destino  62943 non-null  object\n",
      " 6   Partida Prevista        62943 non-null  object\n",
      " 7   Partida Real            61768 non-null  object\n",
      " 8   Chegada Prevista        62943 non-null  object\n",
      " 9   Chegada Real            61768 non-null  object\n",
      " 10  Situação Voo            62943 non-null  object\n",
      "dtypes: object(11)\n",
      "memory usage: 5.8+ MB\n"
     ]
    }
   ],
   "source": [
    "lista_datasets2018.info()"
   ]
  },
  {
   "cell_type": "code",
   "execution_count": null,
   "metadata": {},
   "outputs": [],
   "source": [
    "lista_datasets2018.drop('Código Justificativa', axis=1, inplace=True)"
   ]
  },
  {
   "cell_type": "code",
   "execution_count": 91,
   "metadata": {},
   "outputs": [
    {
     "data": {
      "text/plain": [
       "ICAO Empresa Aérea           0\n",
       "Número Voo                   0\n",
       "Código DI                    0\n",
       "Código Tipo Linha            0\n",
       "ICAO Aeródromo Origem        0\n",
       "ICAO Aeródromo Destino       0\n",
       "Partida Prevista             0\n",
       "Partida Real              1175\n",
       "Chegada Prevista             0\n",
       "Chegada Real              1175\n",
       "Situação Voo                 0\n",
       "dtype: int64"
      ]
     },
     "execution_count": 91,
     "metadata": {},
     "output_type": "execute_result"
    }
   ],
   "source": [
    "lista_datasets2018.isnull().sum()"
   ]
  },
  {
   "cell_type": "code",
   "execution_count": 92,
   "metadata": {},
   "outputs": [
    {
     "data": {
      "text/plain": [
       "0"
      ]
     },
     "execution_count": 92,
     "metadata": {},
     "output_type": "execute_result"
    }
   ],
   "source": [
    "lista_datasets2018.duplicated().sum()\n"
   ]
  },
  {
   "cell_type": "markdown",
   "metadata": {},
   "source": [
    "Preparando as colunas horario Partida Prevista, Partida Real, Chegada Prevista, CHegada Real\n",
    "As colunas estão disposta no formato data e hora, contudo no tipo object. A conversão para o tipo to_datetime vai facilitar na manipulação desses dados para geração de informações como as de pontualidade."
   ]
  },
  {
   "cell_type": "code",
   "execution_count": 100,
   "metadata": {},
   "outputs": [
    {
     "name": "stderr",
     "output_type": "stream",
     "text": [
      "C:\\Users\\tonho\\AppData\\Local\\Temp\\ipykernel_11316\\2460799032.py:4: UserWarning: Parsing dates in %d/%m/%Y %H:%M format when dayfirst=False (the default) was specified. Pass `dayfirst=True` or specify a format to silence this warning.\n",
      "  lista_datasets2018['Chegada Real'] = pd.to_datetime(lista_datasets2018['Chegada Real'], errors='coerce')\n"
     ]
    }
   ],
   "source": [
    "lista_datasets2018['Partida Prevista'] = pd.to_datetime(lista_datasets2018['Partida Prevista'], errors='coerce')\n",
    "lista_datasets2018['Partida Real'] = pd.to_datetime(lista_datasets2018['Partida Real'], errors='coerce')\n",
    "lista_datasets2018['Chegada Prevista'] = pd.to_datetime(lista_datasets2018['Chegada Prevista'], errors='coerce')\n",
    "lista_datasets2018['Chegada Real'] = pd.to_datetime(lista_datasets2018['Chegada Real'], errors='coerce')\n"
   ]
  },
  {
   "cell_type": "code",
   "execution_count": 103,
   "metadata": {},
   "outputs": [
    {
     "data": {
      "text/plain": [
       "2518     22:00:00\n",
       "2519     17:35:00\n",
       "2520     05:05:00\n",
       "2521     01:05:00\n",
       "2522     06:05:00\n",
       "           ...   \n",
       "85431    18:33:00\n",
       "85434    12:11:00\n",
       "85479    16:17:00\n",
       "85486    20:15:00\n",
       "85487    20:15:00\n",
       "Name: Partida Prevista, Length: 62943, dtype: object"
      ]
     },
     "execution_count": 103,
     "metadata": {},
     "output_type": "execute_result"
    }
   ],
   "source": [
    "lista_datasets2018['Partida Prevista'].dt.time"
   ]
  },
  {
   "cell_type": "markdown",
   "metadata": {},
   "source": [
    "Criando uma coluna \"Status horario voo\". Essa coluna vai guardar a indicação de voo \"atrasado==1\" ou \"pontual == 0\"\n",
    "\n",
    "A construção dessa coluna será baseada em:\n",
    "Um voo pode ser dado como pontual ou atrasado, levando-se em conta apenas os dados de \n",
    "“Partida Prevista somando 15 minuto” (Paertida_prevista + 15) e “Partida Real”, sendo:\n",
    "Se Partida Real > Partida Prevista + 15 minutos → Voo atrasado (1)\n",
    "Se Partida Real <= Partida Prevista + 15 minutos → Voo pontual(0)\n",
    "\n",
    "No codigo baixo, o iterrows(): intera sobre todas as colunas do cojunto de dados fazendo a verificação da condição estabelecidade no bloco condional if\n",
    "\n",
    "lista_datasets2018.at[i, \"Status horario voo\"] : correponde a uma nova coluna em que cada linha \"i\" recebe um rotulo para o voo de acordo com a metrica disponibilizada acima.\n",
    "\n",
    "lista_datasets2018.at[i, \"Status horario voo\"] = np.nan: recebe NaN pois a partida real do voo está sem valor (NaN).\n",
    "\n",
    "As condições são baseadas na existencia de um valor da linha na linha 'Partida Real' o que pode servir como premissa de garantia de que o voo realmente aconteceu."
   ]
  },
  {
   "cell_type": "code",
   "execution_count": 119,
   "metadata": {},
   "outputs": [],
   "source": [
    "import pandas as pd\n",
    "\n",
    "# Supondo que 'Status horario voo' seja uma coluna existente em lista_datasets2018\n",
    "\n",
    "for i, row in lista_datasets2018.iterrows():\n",
    "    if row['Partida Real'] > row['Partida Prevista'] + pd.Timedelta(minutes=15):\n",
    "        #Voo atrasado (1)\n",
    "        lista_datasets2018.at[i, \"Status horario voo\"] = 1    \n",
    "    elif row['Partida Real'] <= row['Partida Prevista'] + pd.Timedelta(minutes=15): \n",
    "        # Voo pontual(0)\n",
    "        lista_datasets2018.at[i, \"Status horario voo\"] = 0\n",
    "    elif pd.isna(row['Partida Real']):\n",
    "        lista_datasets2018.at[i, \"Status horario voo\"] = np.nan\n",
    "\n",
    "\n",
    "\n"
   ]
  },
  {
   "cell_type": "code",
   "execution_count": 120,
   "metadata": {},
   "outputs": [
    {
     "data": {
      "text/html": [
       "<div>\n",
       "<style scoped>\n",
       "    .dataframe tbody tr th:only-of-type {\n",
       "        vertical-align: middle;\n",
       "    }\n",
       "\n",
       "    .dataframe tbody tr th {\n",
       "        vertical-align: top;\n",
       "    }\n",
       "\n",
       "    .dataframe thead th {\n",
       "        text-align: right;\n",
       "    }\n",
       "</style>\n",
       "<table border=\"1\" class=\"dataframe\">\n",
       "  <thead>\n",
       "    <tr style=\"text-align: right;\">\n",
       "      <th></th>\n",
       "      <th>ICAO Empresa Aérea</th>\n",
       "      <th>Número Voo</th>\n",
       "      <th>Código DI</th>\n",
       "      <th>Código Tipo Linha</th>\n",
       "      <th>ICAO Aeródromo Origem</th>\n",
       "      <th>ICAO Aeródromo Destino</th>\n",
       "      <th>Partida Prevista</th>\n",
       "      <th>Partida Real</th>\n",
       "      <th>Chegada Prevista</th>\n",
       "      <th>Chegada Real</th>\n",
       "      <th>Situação Voo</th>\n",
       "      <th>Status horario voo</th>\n",
       "    </tr>\n",
       "  </thead>\n",
       "  <tbody>\n",
       "    <tr>\n",
       "      <th>2518</th>\n",
       "      <td>AZU</td>\n",
       "      <td>2018</td>\n",
       "      <td>0.0</td>\n",
       "      <td>N</td>\n",
       "      <td>SBEG</td>\n",
       "      <td>SBBV</td>\n",
       "      <td>2018-12-15 22:00:00</td>\n",
       "      <td>2018-12-15 22:00:00</td>\n",
       "      <td>2018-12-15 23:20:00</td>\n",
       "      <td>2018-12-15 23:20:00</td>\n",
       "      <td>REALIZADO</td>\n",
       "      <td>0.0</td>\n",
       "    </tr>\n",
       "    <tr>\n",
       "      <th>2519</th>\n",
       "      <td>AZU</td>\n",
       "      <td>2018</td>\n",
       "      <td>0.0</td>\n",
       "      <td>N</td>\n",
       "      <td>SBKP</td>\n",
       "      <td>SBEG</td>\n",
       "      <td>2018-12-15 17:35:00</td>\n",
       "      <td>2018-12-15 17:31:00</td>\n",
       "      <td>2018-12-15 21:20:00</td>\n",
       "      <td>2018-12-15 21:17:00</td>\n",
       "      <td>REALIZADO</td>\n",
       "      <td>0.0</td>\n",
       "    </tr>\n",
       "    <tr>\n",
       "      <th>2520</th>\n",
       "      <td>AZU</td>\n",
       "      <td>2019</td>\n",
       "      <td>7.0</td>\n",
       "      <td>N</td>\n",
       "      <td>SBBR</td>\n",
       "      <td>SBKP</td>\n",
       "      <td>2018-12-16 05:05:00</td>\n",
       "      <td>2018-12-16 05:01:00</td>\n",
       "      <td>2018-12-16 06:40:00</td>\n",
       "      <td>2018-12-16 06:31:00</td>\n",
       "      <td>REALIZADO</td>\n",
       "      <td>0.0</td>\n",
       "    </tr>\n",
       "    <tr>\n",
       "      <th>2521</th>\n",
       "      <td>AZU</td>\n",
       "      <td>2019</td>\n",
       "      <td>9.0</td>\n",
       "      <td>N</td>\n",
       "      <td>SBBV</td>\n",
       "      <td>SBBR</td>\n",
       "      <td>2018-12-16 01:05:00</td>\n",
       "      <td>2018-12-16 01:05:00</td>\n",
       "      <td>2018-12-16 04:35:00</td>\n",
       "      <td>2018-12-16 04:35:00</td>\n",
       "      <td>REALIZADO</td>\n",
       "      <td>0.0</td>\n",
       "    </tr>\n",
       "    <tr>\n",
       "      <th>2522</th>\n",
       "      <td>AZU</td>\n",
       "      <td>2400</td>\n",
       "      <td>0.0</td>\n",
       "      <td>N</td>\n",
       "      <td>SBGR</td>\n",
       "      <td>SBRJ</td>\n",
       "      <td>2018-12-01 06:05:00</td>\n",
       "      <td>NaT</td>\n",
       "      <td>2018-12-01 07:10:00</td>\n",
       "      <td>NaT</td>\n",
       "      <td>CANCELADO</td>\n",
       "      <td>NaN</td>\n",
       "    </tr>\n",
       "  </tbody>\n",
       "</table>\n",
       "</div>"
      ],
      "text/plain": [
       "     ICAO Empresa Aérea Número Voo Código DI Código Tipo Linha  \\\n",
       "2518                AZU       2018       0.0                 N   \n",
       "2519                AZU       2018       0.0                 N   \n",
       "2520                AZU       2019       7.0                 N   \n",
       "2521                AZU       2019       9.0                 N   \n",
       "2522                AZU       2400       0.0                 N   \n",
       "\n",
       "     ICAO Aeródromo Origem ICAO Aeródromo Destino    Partida Prevista  \\\n",
       "2518                  SBEG                   SBBV 2018-12-15 22:00:00   \n",
       "2519                  SBKP                   SBEG 2018-12-15 17:35:00   \n",
       "2520                  SBBR                   SBKP 2018-12-16 05:05:00   \n",
       "2521                  SBBV                   SBBR 2018-12-16 01:05:00   \n",
       "2522                  SBGR                   SBRJ 2018-12-01 06:05:00   \n",
       "\n",
       "            Partida Real    Chegada Prevista        Chegada Real Situação Voo  \\\n",
       "2518 2018-12-15 22:00:00 2018-12-15 23:20:00 2018-12-15 23:20:00    REALIZADO   \n",
       "2519 2018-12-15 17:31:00 2018-12-15 21:20:00 2018-12-15 21:17:00    REALIZADO   \n",
       "2520 2018-12-16 05:01:00 2018-12-16 06:40:00 2018-12-16 06:31:00    REALIZADO   \n",
       "2521 2018-12-16 01:05:00 2018-12-16 04:35:00 2018-12-16 04:35:00    REALIZADO   \n",
       "2522                 NaT 2018-12-01 07:10:00                 NaT    CANCELADO   \n",
       "\n",
       "      Status horario voo  \n",
       "2518                 0.0  \n",
       "2519                 0.0  \n",
       "2520                 0.0  \n",
       "2521                 0.0  \n",
       "2522                 NaN  "
      ]
     },
     "execution_count": 120,
     "metadata": {},
     "output_type": "execute_result"
    }
   ],
   "source": [
    "lista_datasets2018.head()"
   ]
  },
  {
   "cell_type": "code",
   "execution_count": 121,
   "metadata": {},
   "outputs": [
    {
     "data": {
      "text/plain": [
       "ICAO Empresa Aérea           0\n",
       "Número Voo                   0\n",
       "Código DI                    0\n",
       "Código Tipo Linha            0\n",
       "ICAO Aeródromo Origem        0\n",
       "ICAO Aeródromo Destino       0\n",
       "Partida Prevista             0\n",
       "Partida Real              1175\n",
       "Chegada Prevista             0\n",
       "Chegada Real              1175\n",
       "Situação Voo                 0\n",
       "Status horario voo        1175\n",
       "dtype: int64"
      ]
     },
     "execution_count": 121,
     "metadata": {},
     "output_type": "execute_result"
    }
   ],
   "source": [
    "lista_datasets2018.isnull().sum()"
   ]
  },
  {
   "cell_type": "markdown",
   "metadata": {},
   "source": [
    "INICIANDO ANALISE EXPLORATORIA"
   ]
  },
  {
   "cell_type": "code",
   "execution_count": 122,
   "metadata": {},
   "outputs": [
    {
     "data": {
      "text/html": [
       "<div>\n",
       "<style scoped>\n",
       "    .dataframe tbody tr th:only-of-type {\n",
       "        vertical-align: middle;\n",
       "    }\n",
       "\n",
       "    .dataframe tbody tr th {\n",
       "        vertical-align: top;\n",
       "    }\n",
       "\n",
       "    .dataframe thead th {\n",
       "        text-align: right;\n",
       "    }\n",
       "</style>\n",
       "<table border=\"1\" class=\"dataframe\">\n",
       "  <thead>\n",
       "    <tr style=\"text-align: right;\">\n",
       "      <th></th>\n",
       "      <th>Partida Prevista</th>\n",
       "      <th>Partida Real</th>\n",
       "      <th>Chegada Prevista</th>\n",
       "      <th>Chegada Real</th>\n",
       "      <th>Status horario voo</th>\n",
       "    </tr>\n",
       "  </thead>\n",
       "  <tbody>\n",
       "    <tr>\n",
       "      <th>count</th>\n",
       "      <td>62943</td>\n",
       "      <td>61768</td>\n",
       "      <td>62943</td>\n",
       "      <td>61768</td>\n",
       "      <td>61768.000000</td>\n",
       "    </tr>\n",
       "    <tr>\n",
       "      <th>mean</th>\n",
       "      <td>2018-12-16 09:10:01.635765504</td>\n",
       "      <td>2018-12-16 10:34:45.571169792</td>\n",
       "      <td>2018-12-16 10:56:53.600877056</td>\n",
       "      <td>2018-12-16 12:18:35.626214144</td>\n",
       "      <td>0.231787</td>\n",
       "    </tr>\n",
       "    <tr>\n",
       "      <th>min</th>\n",
       "      <td>2018-12-01 00:05:00</td>\n",
       "      <td>2018-12-01 00:05:00</td>\n",
       "      <td>2018-12-01 01:10:00</td>\n",
       "      <td>2018-12-01 01:55:00</td>\n",
       "      <td>0.000000</td>\n",
       "    </tr>\n",
       "    <tr>\n",
       "      <th>25%</th>\n",
       "      <td>2018-12-08 16:25:00</td>\n",
       "      <td>2018-12-08 17:39:45</td>\n",
       "      <td>2018-12-08 18:12:30</td>\n",
       "      <td>2018-12-08 19:28:15</td>\n",
       "      <td>0.000000</td>\n",
       "    </tr>\n",
       "    <tr>\n",
       "      <th>50%</th>\n",
       "      <td>2018-12-16 12:00:00</td>\n",
       "      <td>2018-12-16 13:42:30</td>\n",
       "      <td>2018-12-16 13:45:00</td>\n",
       "      <td>2018-12-16 15:20:30</td>\n",
       "      <td>0.000000</td>\n",
       "    </tr>\n",
       "    <tr>\n",
       "      <th>75%</th>\n",
       "      <td>2018-12-23 17:30:00</td>\n",
       "      <td>2018-12-23 19:15:00</td>\n",
       "      <td>2018-12-23 19:10:00</td>\n",
       "      <td>2018-12-23 20:45:30</td>\n",
       "      <td>0.000000</td>\n",
       "    </tr>\n",
       "    <tr>\n",
       "      <th>max</th>\n",
       "      <td>2019-01-01 01:25:00</td>\n",
       "      <td>2019-01-01 02:58:00</td>\n",
       "      <td>2019-01-01 03:10:00</td>\n",
       "      <td>2019-01-01 04:03:00</td>\n",
       "      <td>1.000000</td>\n",
       "    </tr>\n",
       "    <tr>\n",
       "      <th>std</th>\n",
       "      <td>NaN</td>\n",
       "      <td>NaN</td>\n",
       "      <td>NaN</td>\n",
       "      <td>NaN</td>\n",
       "      <td>0.421977</td>\n",
       "    </tr>\n",
       "  </tbody>\n",
       "</table>\n",
       "</div>"
      ],
      "text/plain": [
       "                    Partida Prevista                   Partida Real  \\\n",
       "count                          62943                          61768   \n",
       "mean   2018-12-16 09:10:01.635765504  2018-12-16 10:34:45.571169792   \n",
       "min              2018-12-01 00:05:00            2018-12-01 00:05:00   \n",
       "25%              2018-12-08 16:25:00            2018-12-08 17:39:45   \n",
       "50%              2018-12-16 12:00:00            2018-12-16 13:42:30   \n",
       "75%              2018-12-23 17:30:00            2018-12-23 19:15:00   \n",
       "max              2019-01-01 01:25:00            2019-01-01 02:58:00   \n",
       "std                              NaN                            NaN   \n",
       "\n",
       "                    Chegada Prevista                   Chegada Real  \\\n",
       "count                          62943                          61768   \n",
       "mean   2018-12-16 10:56:53.600877056  2018-12-16 12:18:35.626214144   \n",
       "min              2018-12-01 01:10:00            2018-12-01 01:55:00   \n",
       "25%              2018-12-08 18:12:30            2018-12-08 19:28:15   \n",
       "50%              2018-12-16 13:45:00            2018-12-16 15:20:30   \n",
       "75%              2018-12-23 19:10:00            2018-12-23 20:45:30   \n",
       "max              2019-01-01 03:10:00            2019-01-01 04:03:00   \n",
       "std                              NaN                            NaN   \n",
       "\n",
       "       Status horario voo  \n",
       "count        61768.000000  \n",
       "mean             0.231787  \n",
       "min              0.000000  \n",
       "25%              0.000000  \n",
       "50%              0.000000  \n",
       "75%              0.000000  \n",
       "max              1.000000  \n",
       "std              0.421977  "
      ]
     },
     "execution_count": 122,
     "metadata": {},
     "output_type": "execute_result"
    }
   ],
   "source": [
    "lista_datasets2018.describe()"
   ]
  },
  {
   "cell_type": "code",
   "execution_count": null,
   "metadata": {},
   "outputs": [],
   "source": [
    "\n",
    "\n",
    "\n",
    "# Substitua 'seu_dataframe' pelo nome do seu DataFrame\n",
    "# df = seu_dataframe\n",
    "\n",
    "# 1. Contagem de Valores Únicos\n",
    "for coluna in df.columns:\n",
    "    print(f\"{coluna}: {df[coluna].nunique()} valores únicos\")\n",
    "\n",
    "# 2. Estatísticas Descritivas\n",
    "desc_stats = df[['Partida Real', 'Chegada Real']].describe()\n",
    "print(desc_stats)\n",
    "\n",
    "# 3. Tratamento de Valores Ausentes\n",
    "df.dropna(subset=['Partida Real', 'Chegada Real'], inplace=True)\n",
    "\n",
    "# 4. Análise Temporal\n",
    "df['Partida Prevista'] = pd.to_datetime(df['Partida Prevista'])\n",
    "df['Chegada Prevista'] = pd.to_datetime(df['Chegada Prevista'])\n",
    "\n",
    "# 5. Análise de Correlação\n",
    "correlation_matrix = df[['Partida Real', 'Chegada Real']].corr()\n",
    "print(correlation_matrix)"
   ]
  },
  {
   "cell_type": "markdown",
   "metadata": {},
   "source": [
    "cont_historico: historico de voos, contador"
   ]
  }
 ],
 "metadata": {
  "kernelspec": {
   "display_name": "Python 3",
   "language": "python",
   "name": "python3"
  },
  "language_info": {
   "codemirror_mode": {
    "name": "ipython",
    "version": 3
   },
   "file_extension": ".py",
   "mimetype": "text/x-python",
   "name": "python",
   "nbconvert_exporter": "python",
   "pygments_lexer": "ipython3",
   "version": "3.10.2"
  },
  "orig_nbformat": 4
 },
 "nbformat": 4,
 "nbformat_minor": 2
}
